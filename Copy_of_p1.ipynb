{
  "cells": [
    {
      "cell_type": "markdown",
      "metadata": {
        "id": "view-in-github",
        "colab_type": "text"
      },
      "source": [
        "<a href=\"https://colab.research.google.com/github/victoriareddy/deep-learning-projects/blob/main/Copy_of_p1.ipynb\" target=\"_parent\"><img src=\"https://colab.research.google.com/assets/colab-badge.svg\" alt=\"Open In Colab\"/></a>"
      ]
    },
    {
      "cell_type": "markdown",
      "metadata": {
        "id": "iGQeJu2VH8jl"
      },
      "source": [
        "# MLDS/DiRP Deep Learning Series Project 1: Convolutional Neural Networks\n",
        "\n",
        "For this project, you will writing a convolutional neural network using PyTorch.\n",
        "\n",
        "### Getting Started: Google Colab\n",
        "\n",
        "On Google Colab, click connect and start running cells. All the necessary packages are pre-installed.\n",
        "\n",
        "### Getting Started: Local\n",
        "\n",
        "To run this project locally with conda, run the following commands:\n",
        "\n",
        "``` bash\n",
        "conda create -n dl_series python==3.10.13\n",
        "conda activate dl_series\n",
        "pip install torch\n",
        "pip install scikit-learn\n",
        "pip install juptyerlab\n",
        "pip install tqdm\n",
        "```\n",
        "\n",
        "If you do not have conda, you can install the VSCode Extension `Python Environment Manager`, then it should prompt you to install conda.\n",
        "\n",
        "### Project Tasks\n",
        "\n",
        "1. Implement the CNN class\n",
        "2. Define the dataloaders, criterion, optimizer, and model\n",
        "3. Write the training loop\n",
        "4. Experiment with different hyperparameters\n",
        "\n",
        "### Bonus Tasks\n",
        "\n",
        "1. Instead of classifying the images, try generating them. Pass the digit label into you model and output the image. Use mean sqaured error loss between the generated image and the target image.\n",
        "\n",
        "## Useful Functions\n",
        "\n",
        "``` python3\n",
        "nn.Conv2d(in_channels, out_channels, kernel_size, stride, padding)\n",
        "nn.BatchNorm2d(num_features)\n",
        "nn.Dropout(p)\n",
        "nn.ReLU()\n",
        "\n",
        "nn.MaxPool2d(kernel_size, stride)\n",
        "nn.Flatten()\n",
        "nn.Linear(in_features, out_features)\n",
        "nn.BatchNorm1d(num_features)\n",
        "nn.Softmax(dim)\n",
        "\n",
        "random_split(dataset, lengths)\n",
        "DataLoader(dataset, batch_size, shuffle)\n",
        "nn.NLLLoss()\n",
        "torch.optim(params, lr)\n",
        "```"
      ]
    },
    {
      "cell_type": "code",
      "execution_count": null,
      "metadata": {
        "id": "ooq9V9ngH8jr"
      },
      "outputs": [],
      "source": [
        "import torch\n",
        "from torch import Tensor, nn\n",
        "from torch.utils.data import DataLoader, random_split\n",
        "import torchvision\n",
        "import torchvision.transforms as transforms\n",
        "from matplotlib import pyplot as plt\n",
        "from tqdm import tqdm"
      ]
    },
    {
      "cell_type": "code",
      "execution_count": null,
      "metadata": {
        "id": "0SIYCB-CH8js"
      },
      "outputs": [],
      "source": [
        "# Convolutional Neural Network\n",
        "class CNN(nn.Module):\n",
        "    def __init__(self):\n",
        "        \"\"\"Define layers here\"\"\"\n",
        "        super().__init__()\n",
        "\n",
        "        self.mods = nn.Sequential(\n",
        "            nn.Conv2d(1, 16, kernel_size=5, stride=1, padding=2),\n",
        "            nn.BatchNorm2d(16),\n",
        "            nn.Dropout(0.1),\n",
        "            nn.ReLU(),\n",
        "\n",
        "            nn.MaxPool2d(kernel_size=2, stride=2),\n",
        "\n",
        "            nn.Conv2d(16, 32, kernel_size=5, stride=1, padding=2),\n",
        "            nn.BatchNorm2d(32),\n",
        "            nn.ReLU(),\n",
        "            nn.Dropout(0.1),\n",
        "            nn.MaxPool2d(kernel_size=2, stride=2),\n",
        "            nn.Flatten(),\n",
        "\n",
        "            nn.Linear(32 * 7 * 7, 512),\n",
        "            nn.BatchNorm1d(512),\n",
        "            nn.Dropout(0.1),\n",
        "            nn.ReLU(),\n",
        "            nn.Linear(512, 10),\n",
        "            nn.Softmax(dim=1),\n",
        "        )\n",
        "\n",
        "    def forward(self, x: Tensor) -> Tensor:\n",
        "        \"\"\"Use layers here\n",
        "        Input dimension: (batch_size, 1, 28, 28)\n",
        "        Output dimension: (batch_size, 10)\"\"\"\n",
        "\n",
        "        x = self.mods(x)\n",
        "        return x"
      ]
    },
    {
      "cell_type": "code",
      "execution_count": null,
      "metadata": {
        "id": "tqQxL8TeH8js",
        "outputId": "4496c9e5-df9a-4ae0-a2b0-b9cd1d0ba8ab",
        "colab": {
          "base_uri": "https://localhost:8080/",
          "height": 1000
        }
      },
      "outputs": [
        {
          "output_type": "stream",
          "name": "stdout",
          "text": [
            "Downloading http://yann.lecun.com/exdb/mnist/train-images-idx3-ubyte.gz\n",
            "Failed to download (trying next):\n",
            "HTTP Error 403: Forbidden\n",
            "\n",
            "Downloading https://ossci-datasets.s3.amazonaws.com/mnist/train-images-idx3-ubyte.gz\n",
            "Downloading https://ossci-datasets.s3.amazonaws.com/mnist/train-images-idx3-ubyte.gz to ./data/MNIST/raw/train-images-idx3-ubyte.gz\n"
          ]
        },
        {
          "output_type": "stream",
          "name": "stderr",
          "text": [
            "100%|██████████| 9.91M/9.91M [00:00<00:00, 35.6MB/s]\n"
          ]
        },
        {
          "output_type": "stream",
          "name": "stdout",
          "text": [
            "Extracting ./data/MNIST/raw/train-images-idx3-ubyte.gz to ./data/MNIST/raw\n",
            "\n",
            "Downloading http://yann.lecun.com/exdb/mnist/train-labels-idx1-ubyte.gz\n",
            "Failed to download (trying next):\n",
            "HTTP Error 403: Forbidden\n",
            "\n",
            "Downloading https://ossci-datasets.s3.amazonaws.com/mnist/train-labels-idx1-ubyte.gz\n",
            "Downloading https://ossci-datasets.s3.amazonaws.com/mnist/train-labels-idx1-ubyte.gz to ./data/MNIST/raw/train-labels-idx1-ubyte.gz\n"
          ]
        },
        {
          "output_type": "stream",
          "name": "stderr",
          "text": [
            "100%|██████████| 28.9k/28.9k [00:00<00:00, 1.26MB/s]\n"
          ]
        },
        {
          "output_type": "stream",
          "name": "stdout",
          "text": [
            "Extracting ./data/MNIST/raw/train-labels-idx1-ubyte.gz to ./data/MNIST/raw\n",
            "\n",
            "Downloading http://yann.lecun.com/exdb/mnist/t10k-images-idx3-ubyte.gz\n",
            "Failed to download (trying next):\n",
            "HTTP Error 403: Forbidden\n",
            "\n",
            "Downloading https://ossci-datasets.s3.amazonaws.com/mnist/t10k-images-idx3-ubyte.gz\n",
            "Downloading https://ossci-datasets.s3.amazonaws.com/mnist/t10k-images-idx3-ubyte.gz to ./data/MNIST/raw/t10k-images-idx3-ubyte.gz\n"
          ]
        },
        {
          "output_type": "stream",
          "name": "stderr",
          "text": [
            "100%|██████████| 1.65M/1.65M [00:00<00:00, 9.75MB/s]\n"
          ]
        },
        {
          "output_type": "stream",
          "name": "stdout",
          "text": [
            "Extracting ./data/MNIST/raw/t10k-images-idx3-ubyte.gz to ./data/MNIST/raw\n",
            "\n",
            "Downloading http://yann.lecun.com/exdb/mnist/t10k-labels-idx1-ubyte.gz\n",
            "Failed to download (trying next):\n",
            "HTTP Error 403: Forbidden\n",
            "\n",
            "Downloading https://ossci-datasets.s3.amazonaws.com/mnist/t10k-labels-idx1-ubyte.gz\n",
            "Downloading https://ossci-datasets.s3.amazonaws.com/mnist/t10k-labels-idx1-ubyte.gz to ./data/MNIST/raw/t10k-labels-idx1-ubyte.gz\n"
          ]
        },
        {
          "output_type": "stream",
          "name": "stderr",
          "text": [
            "100%|██████████| 4.54k/4.54k [00:00<00:00, 7.94MB/s]\n"
          ]
        },
        {
          "output_type": "stream",
          "name": "stdout",
          "text": [
            "Extracting ./data/MNIST/raw/t10k-labels-idx1-ubyte.gz to ./data/MNIST/raw\n",
            "\n",
            "Input shape: torch.Size([1, 28, 28])\n",
            "Input min: tensor(0.)\n",
            "Input max: tensor(1.)\n",
            "Input:\n"
          ]
        },
        {
          "output_type": "display_data",
          "data": {
            "text/plain": [
              "<Figure size 640x480 with 1 Axes>"
            ],
            "image/png": "[encoded data removed]"
          },
          "metadata": {}
        },
        {
          "output_type": "stream",
          "name": "stdout",
          "text": [
            "Target: 5\n"
          ]
        }
      ],
      "source": [
        "# Download and load the dataset\n",
        "# Add a transform to convert each PIL image to a PyTorch tensor\n",
        "dataset = torchvision.datasets.MNIST(\n",
        "    root=\"./data\", download=True, transform=transforms.ToTensor()\n",
        ")\n",
        "\n",
        "print(\"Input shape:\", dataset[0][0].shape)\n",
        "print(\"Input min:\", dataset[0][0].min())\n",
        "print(\"Input max:\", dataset[0][0].max())\n",
        "print(\"Input:\")\n",
        "plt.imshow(dataset[0][0].squeeze(), cmap=\"gray\")\n",
        "plt.show()\n",
        "\n",
        "print(\"Target:\", dataset[0][1])"
      ]
    },
    {
      "cell_type": "code",
      "execution_count": null,
      "metadata": {
        "id": "thrx_Z1uH8jt"
      },
      "outputs": [],
      "source": [
        "# Create dataloaders\n",
        "\n",
        "train_dataset, val_dataset, test_dataset = random_split(\n",
        "    dataset, [0.8, 0.1, 0.1], generator=torch.Generator().manual_seed(42)\n",
        ")\n",
        "train_dataloader = DataLoader(train_dataset, batch_size=256, shuffle=True)\n",
        "val_dataloader = DataLoader(val_dataset, batch_size=256, shuffle=False)\n",
        "test_dataloader = DataLoader(test_dataset, batch_size=256, shuffle=False)\n",
        "\n",
        "\n",
        "# Create the CNN model\n",
        "\n",
        "model = CNN()\n",
        "# Define the loss function and optimizer\n",
        "\n",
        "criterion = nn.NLLLoss()\n",
        "optimizer = torch.optim.SGD(model.parameters(), lr=2e-1)"
      ]
    },
    {
      "cell_type": "code",
      "execution_count": null,
      "metadata": {
        "id": "-OTbrGnbH8jt",
        "outputId": "8dbabd52-80b3-4c5b-eef2-c1a330208367",
        "colab": {
          "base_uri": "https://localhost:8080/"
        }
      },
      "outputs": [
        {
          "output_type": "stream",
          "name": "stderr",
          "text": [
            "Epoch 0: 100%|\u001b[32m██████████\u001b[0m| 188/188 [00:51<00:00,  3.64it/s]\n"
          ]
        },
        {
          "output_type": "stream",
          "name": "stdout",
          "text": [
            "\tTrain Loss: -0.460191, Val Loss: -0.848927, Test Loss: -0.844755\n",
            "\tTrain Acc: 0.546002, Val Acc: 0.873675, Test Acc: 0.870373\n"
          ]
        },
        {
          "output_type": "stream",
          "name": "stderr",
          "text": [
            "Epoch 1: 100%|\u001b[32m██████████\u001b[0m| 188/188 [00:50<00:00,  3.70it/s]\n"
          ]
        },
        {
          "output_type": "stream",
          "name": "stdout",
          "text": [
            "\tTrain Loss: -0.901983, Val Loss: -0.930241, Test Loss: -0.932978\n",
            "\tTrain Acc: 0.915455, Val Acc: 0.939128, Test Acc: 0.940592\n"
          ]
        },
        {
          "output_type": "stream",
          "name": "stderr",
          "text": [
            "Epoch 2: 100%|\u001b[32m██████████\u001b[0m| 188/188 [00:50<00:00,  3.73it/s]\n"
          ]
        },
        {
          "output_type": "stream",
          "name": "stdout",
          "text": [
            "\tTrain Loss: -0.942492, Val Loss: -0.941028, Test Loss: -0.940447\n",
            "\tTrain Acc: 0.950154, Val Acc: 0.948172, Test Acc: 0.945917\n"
          ]
        },
        {
          "output_type": "stream",
          "name": "stderr",
          "text": [
            "Epoch 3: 100%|\u001b[32m██████████\u001b[0m| 188/188 [00:51<00:00,  3.68it/s]\n"
          ]
        },
        {
          "output_type": "stream",
          "name": "stdout",
          "text": [
            "\tTrain Loss: -0.956242, Val Loss: -0.956337, Test Loss: -0.955658\n",
            "\tTrain Acc: 0.962953, Val Acc: 0.962751, Test Acc: 0.958915\n"
          ]
        },
        {
          "output_type": "stream",
          "name": "stderr",
          "text": [
            "Epoch 4: 100%|\u001b[32m██████████\u001b[0m| 188/188 [00:50<00:00,  3.73it/s]\n"
          ]
        },
        {
          "output_type": "stream",
          "name": "stdout",
          "text": [
            "\tTrain Loss: -0.963632, Val Loss: -0.965058, Test Loss: -0.965829\n",
            "\tTrain Acc: 0.969228, Val Acc: 0.968797, Test Acc: 0.971052\n"
          ]
        },
        {
          "output_type": "stream",
          "name": "stderr",
          "text": [
            "Epoch 5: 100%|\u001b[32m██████████\u001b[0m| 188/188 [00:50<00:00,  3.73it/s]\n"
          ]
        },
        {
          "output_type": "stream",
          "name": "stdout",
          "text": [
            "\tTrain Loss: -0.967554, Val Loss: -0.963882, Test Loss: -0.964596\n",
            "\tTrain Acc: 0.972781, Val Acc: 0.967913, Test Acc: 0.968610\n"
          ]
        },
        {
          "output_type": "stream",
          "name": "stderr",
          "text": [
            "Epoch 6: 100%|\u001b[32m██████████\u001b[0m| 188/188 [00:50<00:00,  3.75it/s]\n"
          ]
        },
        {
          "output_type": "stream",
          "name": "stdout",
          "text": [
            "\tTrain Loss: -0.971067, Val Loss: -0.963456, Test Loss: -0.962935\n",
            "\tTrain Acc: 0.975877, Val Acc: 0.968029, Test Acc: 0.967634\n"
          ]
        },
        {
          "output_type": "stream",
          "name": "stderr",
          "text": [
            "Epoch 7: 100%|\u001b[32m██████████\u001b[0m| 188/188 [00:50<00:00,  3.72it/s]\n"
          ]
        },
        {
          "output_type": "stream",
          "name": "stdout",
          "text": [
            "\tTrain Loss: -0.973809, Val Loss: -0.969232, Test Loss: -0.969870\n",
            "\tTrain Acc: 0.978453, Val Acc: 0.974028, Test Acc: 0.974423\n"
          ]
        },
        {
          "output_type": "stream",
          "name": "stderr",
          "text": [
            "Epoch 8: 100%|\u001b[32m██████████\u001b[0m| 188/188 [00:51<00:00,  3.66it/s]\n"
          ]
        },
        {
          "output_type": "stream",
          "name": "stdout",
          "text": [
            "\tTrain Loss: -0.975444, Val Loss: -0.974170, Test Loss: -0.975532\n",
            "\tTrain Acc: 0.979742, Val Acc: 0.978051, Test Acc: 0.979446\n"
          ]
        },
        {
          "output_type": "stream",
          "name": "stderr",
          "text": [
            "Epoch 9: 100%|\u001b[32m██████████\u001b[0m| 188/188 [00:50<00:00,  3.75it/s]\n"
          ]
        },
        {
          "output_type": "stream",
          "name": "stdout",
          "text": [
            "\tTrain Loss: -0.977388, Val Loss: -0.972406, Test Loss: -0.971960\n",
            "\tTrain Acc: 0.981902, Val Acc: 0.975772, Test Acc: 0.976144\n"
          ]
        }
      ],
      "source": [
        "# Train the model\n",
        "for epoch in range(10):\n",
        "    model.train()\n",
        "    train_loss = 0.0\n",
        "    train_acc = 0.0\n",
        "    for inputs, targets in tqdm(\n",
        "        train_dataloader, desc=f\"Epoch {epoch}\", colour=\"green\"\n",
        "    ):\n",
        "        outputs = model(inputs)\n",
        "        loss = criterion(outputs, targets)\n",
        "\n",
        "        optimizer.zero_grad()\n",
        "        loss.backward()\n",
        "        optimizer.step()\n",
        "        train_loss += loss.item()\n",
        "        train_acc += (outputs.argmax(dim=1) == targets).float().mean().item()\n",
        "\n",
        "        model.eval()\n",
        "    with torch.no_grad():\n",
        "        val_loss = 0.0\n",
        "        val_acc = 0.0\n",
        "        for inputs, targets in val_dataloader:\n",
        "            outputs = model(inputs)\n",
        "            loss = criterion(outputs, targets)\n",
        "            val_loss += loss.item()\n",
        "            val_acc += (outputs.argmax(dim=1) == targets).float().mean().item()\n",
        "\n",
        "            test_loss = 0.0\n",
        "        test_acc = 0.0\n",
        "        for inputs, targets in test_dataloader:\n",
        "            outputs = model(inputs)\n",
        "            loss = criterion(outputs, targets)\n",
        "            test_loss += loss.item()\n",
        "            test_acc += (outputs.argmax(dim=1) == targets).float().mean().item()\n",
        "\n",
        "    train_loss /= len(train_dataloader)\n",
        "    val_loss /= len(val_dataloader)\n",
        "    test_loss /= len(test_dataloader)\n",
        "    train_acc /= len(train_dataloader)\n",
        "    val_acc /= len(val_dataloader)\n",
        "    test_acc /= len(test_dataloader)\n",
        "\n",
        "    print(\n",
        "        f\"\\tTrain Loss: {train_loss:4f}, Val Loss: {val_loss:4f}, Test Loss: {test_loss:4f}\"\n",
        "    )\n",
        "    print(\n",
        "        f\"\\tTrain Acc: {train_acc:4f}, Val Acc: {val_acc:4f}, Test Acc: {test_acc:4f}\"\n",
        "    )\n",
        "\n"
      ]
    }
  ],
  "metadata": {
    "kernelspec": {
      "display_name": "reading_group",
      "language": "python",
      "name": "python3"
    },
    "language_info": {
      "codemirror_mode": {
        "name": "ipython",
        "version": 3
      },
      "file_extension": ".py",
      "mimetype": "text/x-python",
      "name": "python",
      "nbconvert_exporter": "python",
      "pygments_lexer": "ipython3",
      "version": "3.10.13"
    },
    "colab": {
      "provenance": [],
      "include_colab_link": true
    }
  },
  "nbformat": 4,
  "nbformat_minor": 0
}